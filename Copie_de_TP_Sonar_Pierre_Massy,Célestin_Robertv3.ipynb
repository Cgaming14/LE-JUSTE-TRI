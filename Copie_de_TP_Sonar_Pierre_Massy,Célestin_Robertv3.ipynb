{
  "nbformat": 4,
  "nbformat_minor": 0,
  "metadata": {
    "colab": {
      "name": "Copie de TP Sonar Pierre Massy,Célestin Robert.ipynb",
      "provenance": [],
      "collapsed_sections": [],
      "include_colab_link": true
    },
    "kernelspec": {
      "name": "python3",
      "display_name": "Python 3"
    },
    "language_info": {
      "name": "python"
    }
  },
  "cells": [
    {
      "cell_type": "markdown",
      "metadata": {
        "id": "view-in-github",
        "colab_type": "text"
      },
      "source": [
        "<a href=\"https://colab.research.google.com/github/Cgaming14/LE-JUSTE-TRI/blob/main/Copie_de_TP_Sonar_Pierre_Massy%2CC%C3%A9lestin_Robertv3.ipynb\" target=\"_parent\"><img src=\"https://colab.research.google.com/assets/colab-badge.svg\" alt=\"Open In Colab\"/></a>"
      ]
    },
    {
      "cell_type": "markdown",
      "metadata": {
        "id": "j1rkiGexwzCy"
      },
      "source": [
        "# TP Principe du sonar\n",
        "\n",
        "---\n",
        "\n",
        "  Le sonar (SOund Navigation And Ranging) artificiel fonctionne sur le même principe que celui des chauves-souris : il utilise les propriétés particulières de la propagation du son pour détecter et situer des objets sous l'eau. Son invention découle des travaux de Paul Langevin et de Constantin Chilowski au cours de la première guerre mondiale. Un sonar émet une impulsion sonore et écoute son écho sur les obstacles qu'elle rencontre. La distance est obtenue par la mesure du temps écoulé entre l'émission et la réception de l'écho.\n",
        " > Pour exécuter les cellules de code, il suffit de cliquer sur [  ] à gauche des cellules.\n",
        "\n"
      ]
    },
    {
      "cell_type": "markdown",
      "metadata": {
        "id": "ODgAldNpRBlq"
      },
      "source": [
        "Import des modules numpy (pour manipuler les tableaux) et matplotlib.pyplot (pour faire des représentations graphiques)."
      ]
    },
    {
      "cell_type": "code",
      "metadata": {
        "id": "030r-WoZP3LF"
      },
      "source": [
        "import numpy as np\n",
        "import matplotlib.pyplot as plt"
      ],
      "execution_count": 30,
      "outputs": []
    },
    {
      "cell_type": "markdown",
      "metadata": {
        "id": "3ifGrrwJP6h7"
      },
      "source": [
        "\n",
        ">  ## 1. Mesure de la vitesse des ultrasons\n",
        "\n",
        "\n",
        "---\n",
        "\n",
        "1.3.1. On crée deux tableaux pour stocker les valeurs mesurées de la distance et de la durée de voyage des ultrasons. On utilise l'instruction **np.array([<*valeur 0*>,<*valeur 1*>, ..., <*valeur n-1*>])**.  \n",
        "\n",
        "> Python est anglophone : le séparateur de décimales doit être un point (**.**). La notation scientifique s’écrit avec le symbole « e ». Par exemple: $4,7.10^{-6}$ s’écrira 4.7e-6. \n"
      ]
    },
    {
      "cell_type": "code",
      "metadata": {
        "id": "dRx_IGwtRKXw",
        "colab": {
          "base_uri": "https://localhost:8080/"
        },
        "outputId": "109e58d8-4718-49bd-a24d-37da34f73f1d"
      },
      "source": [
        "durée = np.array([2.44e-4,1.42e-4,6.02e-4,4.46e-4,7.65e-4,8.80e-4,1.084e-3,1.08e-4,1.016e-3,4.82e-4]) \n",
        "\n",
        "\n",
        "distance = np.array ([1.0e-1,5.0e-2,2.0e-1,1.5e-1,2.5e-1,3.0e-1,4.0e-1,3.0e-2,3.5e-1,1.8e-1]) \n",
        "\n",
        "print(durée,distance)                                                         # Créer le tableau contenant vos valeurs de durée (attention à l'unité)."
      ],
      "execution_count": 31,
      "outputs": [
        {
          "output_type": "stream",
          "name": "stdout",
          "text": [
            "[0.000244 0.000142 0.000602 0.000446 0.000765 0.00088  0.001084 0.000108\n",
            " 0.001016 0.000482] [0.1  0.05 0.2  0.15 0.25 0.3  0.4  0.03 0.35 0.18]\n"
          ]
        }
      ]
    },
    {
      "cell_type": "markdown",
      "metadata": {
        "id": "41R_mdQ3Sikz"
      },
      "source": [
        "On calcule les valeurs correspondantes de la vitesse des ultrasons.\n",
        "\n",
        "> Les opérations sur les tableaux agissent sur l'ensemble des valeurs du tableau.\n",
        "\n",
        "\n"
      ]
    },
    {
      "cell_type": "code",
      "metadata": {
        "id": "fP7YbHVJS3Wx",
        "colab": {
          "base_uri": "https://localhost:8080/"
        },
        "outputId": "66bbde95-9165-4e2d-92f8-ef1a2f19a871"
      },
      "source": [
        "vitesse = distance/durée     # Calculer les valeurs de la vitesse des ultrasons. Remplacer <expression>.\n",
        "print(vitesse,\"vitesse en m.s\")             # Affiche les valeurs calculées de la vitesse."
      ],
      "execution_count": 32,
      "outputs": [
        {
          "output_type": "stream",
          "name": "stdout",
          "text": [
            "[409.83606557 352.11267606 332.22591362 336.32286996 326.79738562\n",
            " 340.90909091 369.00369004 277.77777778 344.48818898 373.4439834 ] vitesse en m.s\n"
          ]
        }
      ]
    },
    {
      "cell_type": "markdown",
      "metadata": {
        "id": "HB2NMw15TVxi"
      },
      "source": [
        "1.3.2. On représente les valeurs obtenues sous forme d'un diagrammes en barres (un histogramme) pour apprécier la variabilité de la mesure."
      ]
    },
    {
      "cell_type": "code",
      "metadata": {
        "id": "5o6wQ5pzU3pa",
        "colab": {
          "base_uri": "https://localhost:8080/",
          "height": 295
        },
        "outputId": "b75ed2db-3535-4de0-8ff0-ea39e9605e89"
      },
      "source": [
        "plt.hist(vitesse, bins = 'auto', color = 'red', edgecolor = 'white')   # Remplacer <grandeur à représenter>, remplacer les '...' par les couleurs de votre choix pour les barres (color) et leur contour (edgecolor).\n",
        "plt.title(\"Variation de la vitesse\")        # Remplacer ... par le titre que vous voulez donner au graphe.\n",
        "plt.xlabel(\"v\")       # Remplacer ... par le titre que vous voulez donner à l'axe des abscisses.\n",
        "plt.ylabel(\"nb\")       # Remplacer ... par le titre que vous voulez donner à l'axe des ordonnées.\n",
        "plt.show()              # Pour afficher le graphe."
      ],
      "execution_count": 33,
      "outputs": [
        {
          "output_type": "display_data",
          "data": {
            "image/png": "[encoded data removed]",
            "text/plain": [
              "<Figure size 432x288 with 1 Axes>"
            ]
          },
          "metadata": {
            "needs_background": "light"
          }
        }
      ]
    },
    {
      "cell_type": "markdown",
      "metadata": {
        "id": "RFO8rasUWMIA"
      },
      "source": [
        "1.3.3. On calcule l'incertitude-type sur UNE valeur de la vitesse."
      ]
    },
    {
      "cell_type": "code",
      "metadata": {
        "id": "0JMiBAoVWhPG",
        "colab": {
          "base_uri": "https://localhost:8080/"
        },
        "outputId": "d35e26ca-e5aa-42c7-d33c-994e2a72aba8"
      },
      "source": [
        "u_v = np.std(vitesse, ddof = 1)    # Remplacer <grandeur>. Le paramètre ddof = 1 permet d'utiliser l'expression de l'écart-type expérimental.\n",
        "print(\"L'incertitude-type sur une valeur de la vitesse est:\",u_v, \"m.s^-1.\")   # Affiche l'incertitude-type. Remplacer <unité>."
      ],
      "execution_count": 38,
      "outputs": [
        {
          "output_type": "stream",
          "name": "stdout",
          "text": [
            "L'incertitude-type sur une valeur de la vitesse est: 34.52613507140809 m.s^-1.\n"
          ]
        }
      ]
    },
    {
      "cell_type": "markdown",
      "metadata": {
        "id": "dBHlnszVX2aJ"
      },
      "source": [
        "1.4.1. On calcule la valeur moyenne des vitesses des ultrasons."
      ]
    },
    {
      "cell_type": "code",
      "metadata": {
        "id": "_dpIpXbgY7IR",
        "colab": {
          "base_uri": "https://localhost:8080/"
        },
        "outputId": "e4b38211-3452-4843-bb4a-a1805f4d02ea"
      },
      "source": [
        "v_moy = np.mean(vitesse)     # Remplacer <grandeur>.\n",
        "print(\"La valeur moyenne des vitesses calculées est:\", v_moy, \"m.s^-1.\")   # Affiche la valeur moyenne des vitesses. Remplacer <unité>."
      ],
      "execution_count": 35,
      "outputs": [
        {
          "output_type": "stream",
          "name": "stdout",
          "text": [
            "La valeur moyenne des vitesses calculées est: 346.29176419300796 m.s^-1.\n"
          ]
        }
      ]
    },
    {
      "cell_type": "markdown",
      "metadata": {
        "id": "vroJcAW1aU96"
      },
      "source": [
        "1.4.2. On calcule l'incertitude-type sur la moyenne des vitesses."
      ]
    },
    {
      "cell_type": "code",
      "metadata": {
        "id": "BJ3RA47sa66G",
        "colab": {
          "base_uri": "https://localhost:8080/"
        },
        "outputId": "80288df6-68d0-4476-9441-5e5ea60eb07a"
      },
      "source": [
        "u_moy = u_v / np.sqrt(10)     # Remplacer <valeur> par le nombre d'observations effectuées.\n",
        "print(\"L'incertitude-type sur la valeur moyenne des vitesses est:\", u_moy, \"m.s^-1.\")    # Affiche l'incertitude-type. Remplacer <unité>."
      ],
      "execution_count": 36,
      "outputs": [
        {
          "output_type": "stream",
          "name": "stdout",
          "text": [
            "L'incertitude-type sur la valeur moyenne des vitesses est: nan m.s^-1.\n"
          ]
        }
      ]
    },
    {
      "cell_type": "markdown",
      "metadata": {
        "id": "FUM-NDJwdpEL"
      },
      "source": [
        "> ## 2. Illustration du principe du sonar\n",
        "\n",
        "---\n",
        "\n",
        "2.3.3. Simulation Monte Carlo d'un grand nombre de valeurs de la profondeur *L* de la grotte pour déterminer l'incertitude-type\n",
        "> On simule N = 1000 valeurs de la durée de trajet des ultrasons dans la grotte, selon une loi uniforme, à partir de la précision $\\Delta$ estimée à la question 2.3.2.  \n",
        "> Pour générer aléatoirement des valeurs de durées comprises dans l'intervalle [*bas*, *haut*], on utilise l'instruction **np.random.uniform(*bas*, *haut*, nombre de simulations)**.\n",
        "\n",
        "\n"
      ]
    },
    {
      "cell_type": "code",
      "metadata": {
        "id": "9E5leF6LyfsY",
        "colab": {
          "base_uri": "https://localhost:8080/",
          "height": 128
        },
        "outputId": "2512bb5a-1977-4026-c12a-b064197e4565"
      },
      "source": [
        "tau = <2.300e-3>                                # Remplacer <valeur> par la durée du trajet mesurée expérimentalement.\n",
        "Delta = <valeur>                              # Remplacer <valeur> par la précision estimée à la question 2.3.2.\n",
        "\n",
        "N = 1000                                      # Définition du nombre de simulations.\n",
        "\n",
        "Duree = np.random.uniform(<bas>, <haut>, N)   # Simule (dans un tableau) 1000 valeurs de la durée du trajet des ultrasons. Remplacer <bas> et <haut>."
      ],
      "execution_count": 37,
      "outputs": [
        {
          "output_type": "error",
          "ename": "SyntaxError",
          "evalue": "ignored",
          "traceback": [
            "\u001b[0;36m  File \u001b[0;32m\"<ipython-input-37-8d25ec430fcd>\"\u001b[0;36m, line \u001b[0;32m1\u001b[0m\n\u001b[0;31m    tau = <2.300e-3>                                # Remplacer <valeur> par la durée du trajet mesurée expérimentalement.\u001b[0m\n\u001b[0m          ^\u001b[0m\n\u001b[0;31mSyntaxError\u001b[0m\u001b[0;31m:\u001b[0m invalid syntax\n"
          ]
        }
      ]
    },
    {
      "cell_type": "markdown",
      "metadata": {
        "id": "GNyo9FGw1Q9K"
      },
      "source": [
        "> On simule à présent 1000 valeurs de la vitesse des ultrasons en réinvestissant les résultats de la partie 1. L'incertitude-type sur la vitesse ayant été déterminée par une approche statistique, on peut supposer une distribution normale (gaussienne) des valeurs possibles de la vitesse des ultrasons.   \n",
        "> Pour générer aléatoirement des valeurs de vitesse selon une distribution normale centrée sur la valeur moyenne (v_moy, calculée à la question 1.4.1) et d'écart-type u_moy (calculé à la question 1.4.2), on utilise l'instruction **np.random.normal(*centre*, *écart-type*, nombre de simulations)**."
      ]
    },
    {
      "cell_type": "code",
      "metadata": {
        "id": "fSapo9bz2jsQ"
      },
      "source": [
        "Vitesse = np.random.normal(<centre>, <écart-type>, N)   # Simule (dans un tableau) 1000 valeurs de la vitesse. Remplacer <centre> et <écart-type>."
      ],
      "execution_count": null,
      "outputs": []
    },
    {
      "cell_type": "markdown",
      "metadata": {
        "id": "-7o9bUwr39or"
      },
      "source": [
        "> On en déduit maintenant 1000 valeurs simulées de la profondeur de la grotte en reliant les tableaux **Duree** et **Vitesse** qui teinnent compte des incertitudes-types sur ces deux grandeurs."
      ]
    },
    {
      "cell_type": "code",
      "metadata": {
        "id": "RALiJuGY4Vqm"
      },
      "source": [
        "L = <calcul>    # Calcul de 1000 valeurs de L. Remplacer <calcul> par l'expression correcte."
      ],
      "execution_count": null,
      "outputs": []
    },
    {
      "cell_type": "markdown",
      "metadata": {
        "id": "m3xYMxPw4prm"
      },
      "source": [
        "> Il reste à calculer l'incertitude-type (il s'agit d'une incertitude-type composée) sur la valeur de *L* calculée à la question 2.2. en raisonnant comme à la question 1.3.3."
      ]
    },
    {
      "cell_type": "code",
      "metadata": {
        "id": "jiHGM9ql44r_"
      },
      "source": [
        "u_L = <expression>     # Remplacer <expression>.\n",
        "print(\"L'incertitude-type sur la profondeur de la grotte L vaut:\", u_L, \"unité.\")   # Affiche l'incertitude-type. Remplacer <unité>."
      ],
      "execution_count": null,
      "outputs": []
    }
  ]
}