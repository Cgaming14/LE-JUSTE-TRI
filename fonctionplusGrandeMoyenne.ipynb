{
  "nbformat": 4,
  "nbformat_minor": 0,
  "metadata": {
    "colab": {
      "provenance": [],
      "include_colab_link": true
    },
    "kernelspec": {
      "name": "python3",
      "display_name": "Python 3"
    },
    "language_info": {
      "name": "python"
    }
  },
  "cells": [
    {
      "cell_type": "markdown",
      "metadata": {
        "id": "view-in-github",
        "colab_type": "text"
      },
      "source": [
        "<a href=\"https://colab.research.google.com/github/Cgaming14/LE-JUSTE-TRI/blob/main/fonctionplusGrandeMoyenne.ipynb\" target=\"_parent\"><img src=\"https://colab.research.google.com/assets/colab-badge.svg\" alt=\"Open In Colab\"/></a>"
      ]
    },
    {
      "cell_type": "markdown",
      "source": [
        "Construire une fonction `plusGrandeMoyenne` qui prend en argument une liste de nombres entiers et qui retourne :\n",
        "- `'I'` si la moyenne des nombres impairs est plus grande que la moyenne des nombres paires.\n",
        "- `'P'` si c'est la moyenne des nombres pairs qui est plus grande/\n",
        "- Et `=` si les deux moyennes sont égales.\n",
        "\n",
        "(Assurez-vous que la liste ne contient bien que des entiers)."
      ],
      "metadata": {
        "id": "a2vyBPJIGS0U"
      }
    },
    {
      "cell_type": "code",
      "source": [
        "def plusGrandeMoyenne(L: list) -> str:\n",
        "  for i in range(len(L)):\n",
        "    assert type(L[i]) == int\n",
        "  I=[]\n",
        "  P=[]\n",
        "  sI=0\n",
        "  sP=0\n",
        "  moyI=0\n",
        "  moyP=0\n",
        "  for i in range(len(L)):\n",
        "    if L[i]%2==0:\n",
        "      P.append(L[i])\n",
        "    elif L[i]%2==1:\n",
        "      I.append(L[i])\n",
        "  for j in I:\n",
        "    sI +=j\n",
        "  for e in P:\n",
        "    sP +=e\n",
        "  if len(I)==0:\n",
        "    moyI=0\n",
        "  elif len(P)==0:\n",
        "    moyP=0\n",
        "  else:\n",
        "    moyI,moyP=sI/len(I),sP/len(P)\n",
        "  if moyP==moyI:\n",
        "    return (\"=\")\n",
        "  elif moyI>moyP:\n",
        "    return (\"I\")\n",
        "  else :\n",
        "    return (\"P\")\n",
        "  "
      ],
      "metadata": {
        "id": "TMIoEDPAGSNe"
      },
      "execution_count": 46,
      "outputs": []
    },
    {
      "cell_type": "code",
      "source": [
        "plusGrandeMoyenne([2,4,3])\n"
      ],
      "metadata": {
        "id": "OGYiO0OEETkg",
        "outputId": "24d2b9e2-0182-4c94-e67e-432ab4d09675",
        "colab": {
          "base_uri": "https://localhost:8080/",
          "height": 36
        }
      },
      "execution_count": 44,
      "outputs": [
        {
          "output_type": "execute_result",
          "data": {
            "text/plain": [
              "'='"
            ],
            "application/vnd.google.colaboratory.intrinsic+json": {
              "type": "string"
            }
          },
          "metadata": {},
          "execution_count": 44
        }
      ]
    },
    {
      "cell_type": "markdown",
      "source": [
        "Exécutez la cellule suivante pour voir si votre fonction passe les tests."
      ],
      "metadata": {
        "id": "_lDZlMePGv-7"
      }
    },
    {
      "cell_type": "code",
      "source": [
        "from random import randint\n",
        "from time import time\n",
        "import inspect\n",
        "\n",
        "test1=test2=test3=test4=test5=False\n",
        "\n",
        "if plusGrandeMoyenne([2,4,3])=='=' and plusGrandeMoyenne([2,4,3,5])=='I' and plusGrandeMoyenne([8,4,3,5])=='P':\n",
        "  print(\"TEST 1 V : FAIT LE BOULOT\")\n",
        "  test1 = True\n",
        "else: \n",
        "  print(\"TEST 1 X : LA FONCTION NE FAIT PAS LE BOULOT\")\n",
        "if test1:\n",
        "  texteFonction = inspect.getsource(plusGrandeMoyenne)\n",
        "  if 'sum' in texteFonction or 'np' in texteFonction:\n",
        "    print(\"TEST 2 X : N'UTILISER QUE DES FONCTIONS AU PROGRAMME\")\n",
        "  else:\n",
        "    test2 = True\n",
        "    print(\"TEST 2 V : N'UTILISER QUE DES FONCTIONS AU PROGRAMME\")\n",
        "  try:\n",
        "    plusGrandeMoyenne([1,2.5])\n",
        "  except AssertionError:\n",
        "    test3 = True\n",
        "    print(\"TEST 3 V : BON ASSERT\")\n",
        "  else:\n",
        "    print(\"TEST 3 X : OUBLI OU MAUVAIS ASSERT\")\n",
        "  try:\n",
        "    plusGrandeMoyenne([1,3])\n",
        "  except ZeroDivisionError:\n",
        "    print(\"TEST 4 X : DIVISION PAR ZERO !!\")\n",
        "  else:\n",
        "    test4 = True\n",
        "    print(\"TEST 4 V : EVITE LES DIVISIONS PAR ZERO\")\n",
        "  if test4:\n",
        "    n = 200000\n",
        "    start = time()\n",
        "    for i in range(n):\n",
        "      L = [randint(15,23) for i in range(20)]\n",
        "      plusGrandeMoyenne(L)\n",
        "    stop = time()\n",
        "    if stop-start > 5.5:\n",
        "      print(\"TEST 5 X : TROP LENT\")\n",
        "    else:\n",
        "      test4 = True\n",
        "      print(\"TEST 5 V : PAS TROP LENT\")\n",
        "\n",
        "if test1 and test2 and test3 and test4 and test5:\n",
        "  print(\"BRAVO !\")"
      ],
      "metadata": {
        "colab": {
          "base_uri": "https://localhost:8080/"
        },
        "id": "stqLiOwn00zE",
        "outputId": "b02b7549-7eb0-474f-aa24-99baa17f8572"
      },
      "execution_count": 48,
      "outputs": [
        {
          "output_type": "stream",
          "name": "stdout",
          "text": [
            "TEST 1 V : FAIT LE BOULOT\n",
            "TEST 2 V : N'UTILISER QUE DES FONCTIONS AU PROGRAMME\n",
            "TEST 3 V : BON ASSERT\n",
            "TEST 4 V : EVITE LES DIVISIONS PAR ZERO\n",
            "TEST 5 X : TROP LENT\n"
          ]
        }
      ]
    },
    {
      "cell_type": "code",
      "source": [],
      "metadata": {
        "id": "_HEDuFwCK8Ac"
      },
      "execution_count": null,
      "outputs": []
    },
    {
      "cell_type": "code",
      "source": [],
      "metadata": {
        "id": "IU0ZDBxHBiqV"
      },
      "execution_count": null,
      "outputs": []
    }
  ]
}